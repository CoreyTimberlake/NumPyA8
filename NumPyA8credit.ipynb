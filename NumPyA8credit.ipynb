{
  "nbformat": 4,
  "nbformat_minor": 0,
  "metadata": {
    "colab": {
      "provenance": []
    },
    "kernelspec": {
      "name": "python3",
      "display_name": "Python 3"
    },
    "language_info": {
      "name": "python"
    }
  },
  "cells": [
    {
      "cell_type": "code",
      "execution_count": 39,
      "metadata": {
        "id": "Tf5JbWBTmoqx"
      },
      "outputs": [],
      "source": [
        "import numpy as np\n",
        "\n",
        "q1 = {\n",
        "    \"One\":\"A\",\n",
        "    \"Two\":\"B\",\n",
        "    \"Three\":\"C\",\n",
        "    \"Four\":\"D\"\n",
        "}\n",
        "\n",
        "Q1 = q1[\"Three\"]\n",
        "#print(Q1)\n",
        "\n",
        "Q2 = {\n",
        "    \"Five\":\"E\",\n",
        "    \"Six\":\"F\",\n",
        "}\n",
        "\n",
        "Q2.update({\"Seven\":\"G\"})\n",
        "#print(Q2)\n",
        "\n",
        "Q3 = {\n",
        "    \"Eight\": \"H\"\n",
        "}\n",
        "del(Q3[\"Eight\"])\n",
        "\n",
        "\n",
        "Q4 = {\n",
        "    \"Nine\":\"I\",\n",
        "    \"Ten\":\"J\"\n",
        "}\n",
        "Q4.update({\"Ten\":\"K\"})\n",
        "\n",
        "def Q5():\n",
        "  for i in q1:\n",
        "      print(q1[i])\n",
        "#Q5()\n",
        "\n",
        "\n",
        "\n",
        "def Q6():\n",
        "  for i in q1:\n",
        "      print(i)\n",
        "#Q6()\n",
        "\n",
        "\n",
        "Q7 = {\n",
        "    \"Least Favorite\" : {\n",
        "        \"Fruit\" : \"Grape\",\n",
        "        \"Color\" : \"Purple\"\n",
        "    },\n",
        "    \"Medium Favorite\" : {\n",
        "        \"Fruit\" : \"Apple\",\n",
        "        \"Color\" : \"Red\"\n",
        "    },\n",
        "    \"Most Favorite\" : {\n",
        "        \"Fruit\" : \"Banana\",\n",
        "        \"Color\" : \"Yellow\"\n",
        "}\n",
        "}\n",
        "\n",
        "\n"
      ]
    }
  ]
}